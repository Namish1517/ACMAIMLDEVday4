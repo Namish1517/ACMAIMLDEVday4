{
 "cells": [
  {
   "cell_type": "code",
   "execution_count": 2,
   "id": "e360e43c-38f4-4c65-a626-07ffb101ec2a",
   "metadata": {},
   "outputs": [
    {
     "data": {
      "text/html": [
       "<div>\n",
       "<style scoped>\n",
       "    .dataframe tbody tr th:only-of-type {\n",
       "        vertical-align: middle;\n",
       "    }\n",
       "\n",
       "    .dataframe tbody tr th {\n",
       "        vertical-align: top;\n",
       "    }\n",
       "\n",
       "    .dataframe thead th {\n",
       "        text-align: right;\n",
       "    }\n",
       "</style>\n",
       "<table border=\"1\" class=\"dataframe\">\n",
       "  <thead>\n",
       "    <tr style=\"text-align: right;\">\n",
       "      <th></th>\n",
       "      <th>Year</th>\n",
       "      <th>Player</th>\n",
       "      <th>Goals</th>\n",
       "      <th>Club</th>\n",
       "      <th>Age</th>\n",
       "    </tr>\n",
       "  </thead>\n",
       "  <tbody>\n",
       "    <tr>\n",
       "      <th>0</th>\n",
       "      <td>2025</td>\n",
       "      <td>Kylian Mbappé</td>\n",
       "      <td>31</td>\n",
       "      <td>Real Madrid</td>\n",
       "      <td>26</td>\n",
       "    </tr>\n",
       "    <tr>\n",
       "      <th>1</th>\n",
       "      <td>2024</td>\n",
       "      <td>Erling Haaland</td>\n",
       "      <td>36</td>\n",
       "      <td>Manchester City</td>\n",
       "      <td>23</td>\n",
       "    </tr>\n",
       "    <tr>\n",
       "      <th>2</th>\n",
       "      <td>2023</td>\n",
       "      <td>Harry Kane</td>\n",
       "      <td>36</td>\n",
       "      <td>Bayern Munich</td>\n",
       "      <td>30</td>\n",
       "    </tr>\n",
       "    <tr>\n",
       "      <th>3</th>\n",
       "      <td>2022</td>\n",
       "      <td>Robert Lewandowski</td>\n",
       "      <td>35</td>\n",
       "      <td>Bayern Munich</td>\n",
       "      <td>34</td>\n",
       "    </tr>\n",
       "    <tr>\n",
       "      <th>4</th>\n",
       "      <td>2021</td>\n",
       "      <td>Robert Lewandowski</td>\n",
       "      <td>41</td>\n",
       "      <td>Bayern Munich</td>\n",
       "      <td>33</td>\n",
       "    </tr>\n",
       "  </tbody>\n",
       "</table>\n",
       "</div>"
      ],
      "text/plain": [
       "   Year              Player  Goals             Club  Age\n",
       "0  2025       Kylian Mbappé     31      Real Madrid   26\n",
       "1  2024      Erling Haaland     36  Manchester City   23\n",
       "2  2023          Harry Kane     36    Bayern Munich   30\n",
       "3  2022  Robert Lewandowski     35    Bayern Munich   34\n",
       "4  2021  Robert Lewandowski     41    Bayern Munich   33"
      ]
     },
     "execution_count": 2,
     "metadata": {},
     "output_type": "execute_result"
    }
   ],
   "source": [
    "import pandas as pd\n",
    "df=pd.read_csv(r\"C:\\Users\\Namish\\OneDrive\\Documents\\projects\\ACM day3\\goldenboot.csv\")\n",
    "for col in [\"Year\",\"Goals\",\"Age\"]:\n",
    "    df[col]=pd.to_numeric(df[col],errors=\"coerce\")\n",
    "df=df.dropna(subset=[\"Year\",\"Goals\",\"Age\"]).reset_index(drop=True)\n",
    "df.head()\n"
   ]
  },
  {
   "cell_type": "code",
   "execution_count": 3,
   "id": "f9a4b4ec-53db-476b-9e8d-9d4410bca350",
   "metadata": {},
   "outputs": [
    {
     "name": "stdout",
     "output_type": "stream",
     "text": [
      "mean values are shown down below,pls notice they not all same\n",
      "Year     2015.50\n",
      "Goals      36.55\n",
      "Age        28.55\n",
      "dtype: float64\n",
      "median numbers are here,maybe not super accurate looking,still fine\n",
      "Year     2015.5\n",
      "Goals      36.0\n",
      "Age        29.5\n",
      "dtype: float64\n",
      "mode is kinda tricky,it picks first one if many,so beware ok\n",
      "Year     2006.0\n",
      "Goals      31.0\n",
      "Age        30.0\n",
      "Name: 0, dtype: float64\n"
     ]
    }
   ],
   "source": [
    "means=df[[\"Year\",\"Goals\",\"Age\"]].mean()\n",
    "medians=df[[\"Year\",\"Goals\",\"Age\"]].median()\n",
    "modes=df[[\"Year\",\"Goals\",\"Age\"]].mode().iloc[0]\n",
    "print(\"mean values are shown down below,pls notice they not all same\")\n",
    "print(means)\n",
    "print(\"median numbers are here,maybe not super accurate looking,still fine\")\n",
    "print(medians)\n",
    "print(\"mode is kinda tricky,it picks first one if many,so beware ok\")\n",
    "print(modes)\n"
   ]
  },
  {
   "cell_type": "code",
   "execution_count": 4,
   "id": "d68b8e4b-0497-4a2f-bc46-f6567fb83aaf",
   "metadata": {},
   "outputs": [
    {
     "name": "stdout",
     "output_type": "stream",
     "text": [
      "correlation table is down,values look bit weird sometimes,that normal\n"
     ]
    },
    {
     "data": {
      "text/html": [
       "<div>\n",
       "<style scoped>\n",
       "    .dataframe tbody tr th:only-of-type {\n",
       "        vertical-align: middle;\n",
       "    }\n",
       "\n",
       "    .dataframe tbody tr th {\n",
       "        vertical-align: top;\n",
       "    }\n",
       "\n",
       "    .dataframe thead th {\n",
       "        text-align: right;\n",
       "    }\n",
       "</style>\n",
       "<table border=\"1\" class=\"dataframe\">\n",
       "  <thead>\n",
       "    <tr style=\"text-align: right;\">\n",
       "      <th></th>\n",
       "      <th>Year</th>\n",
       "      <th>Goals</th>\n",
       "      <th>Age</th>\n",
       "    </tr>\n",
       "  </thead>\n",
       "  <tbody>\n",
       "    <tr>\n",
       "      <th>Year</th>\n",
       "      <td>1.000000</td>\n",
       "      <td>0.128170</td>\n",
       "      <td>0.259093</td>\n",
       "    </tr>\n",
       "    <tr>\n",
       "      <th>Goals</th>\n",
       "      <td>0.128170</td>\n",
       "      <td>1.000000</td>\n",
       "      <td>-0.092262</td>\n",
       "    </tr>\n",
       "    <tr>\n",
       "      <th>Age</th>\n",
       "      <td>0.259093</td>\n",
       "      <td>-0.092262</td>\n",
       "      <td>1.000000</td>\n",
       "    </tr>\n",
       "  </tbody>\n",
       "</table>\n",
       "</div>"
      ],
      "text/plain": [
       "           Year     Goals       Age\n",
       "Year   1.000000  0.128170  0.259093\n",
       "Goals  0.128170  1.000000 -0.092262\n",
       "Age    0.259093 -0.092262  1.000000"
      ]
     },
     "execution_count": 4,
     "metadata": {},
     "output_type": "execute_result"
    }
   ],
   "source": [
    "corr=df[[\"Year\",\"Goals\",\"Age\"]].corr()\n",
    "print(\"correlation table is down,values look bit weird sometimes,that normal\")\n",
    "corr\n"
   ]
  },
  {
   "cell_type": "code",
   "execution_count": 4,
   "id": "aa25d036-0a23-483e-ba50-f4673199d17b",
   "metadata": {},
   "outputs": [
    {
     "name": "stdout",
     "output_type": "stream",
     "text": [
      "one sample t test done,t value=1.128,p value=0.2732\n",
      "sample mean is kinda around 36.55,n=20,hope thats fine\n"
     ]
    }
   ],
   "source": [
    "from scipy import stats\n",
    "import numpy as np\n",
    "goals=df[\"Goals\"].dropna().to_numpy()\n",
    "t_stat,p_value=stats.ttest_1samp(goals,popmean=35)\n",
    "print(f\"one sample t test done,t value={t_stat:.3f},p value={p_value:.4f}\")\n",
    "print(f\"sample mean is kinda around {goals.mean():.2f},n={goals.size},hope thats fine\")\n"
   ]
  },
  {
   "cell_type": "code",
   "execution_count": null,
   "id": "85dc0e64-61bc-4a74-bb19-72157415f8d1",
   "metadata": {},
   "outputs": [],
   "source": []
  }
 ],
 "metadata": {
  "kernelspec": {
   "display_name": "Python 3 (ipykernel)",
   "language": "python",
   "name": "python3"
  },
  "language_info": {
   "codemirror_mode": {
    "name": "ipython",
    "version": 3
   },
   "file_extension": ".py",
   "mimetype": "text/x-python",
   "name": "python",
   "nbconvert_exporter": "python",
   "pygments_lexer": "ipython3",
   "version": "3.13.3"
  }
 },
 "nbformat": 4,
 "nbformat_minor": 5
}
